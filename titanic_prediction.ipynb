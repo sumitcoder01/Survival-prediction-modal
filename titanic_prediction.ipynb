{
  "nbformat": 4,
  "nbformat_minor": 0,
  "metadata": {
    "colab": {
      "provenance": []
    },
    "kernelspec": {
      "name": "python3",
      "display_name": "Python 3"
    },
    "language_info": {
      "name": "python"
    }
  },
  "cells": [
    {
      "cell_type": "markdown",
      "source": [
        "# **Titanic Modal Prediction**"
      ],
      "metadata": {
        "id": "voLoZHxJ-Ueb"
      }
    },
    {
      "cell_type": "code",
      "execution_count": 17,
      "metadata": {
        "id": "oWXwsvzg-I38"
      },
      "outputs": [],
      "source": [
        "# importing neccesary modules\n",
        "import pickle\n",
        "import pandas as pd\n",
        "import numpy as np"
      ]
    },
    {
      "cell_type": "code",
      "source": [
        "# load pipe\n",
        "pipe = pickle.load(open('pipe.pkl','rb'))"
      ],
      "metadata": {
        "id": "sfayKZ0J-txN"
      },
      "execution_count": 19,
      "outputs": []
    },
    {
      "cell_type": "code",
      "source": [
        "#Assume user input\n",
        "test_inputs = np.array([[2,'male',50,4,20,'S'],[1,'male',60,2,52,'Q']],dtype=object)\n",
        "inputs = pd.DataFrame(test_inputs, columns=['Pclass', 'Sex','Age','Family','Fare','Embarked'])"
      ],
      "metadata": {
        "id": "80vBgK2W-6uq"
      },
      "execution_count": 20,
      "outputs": []
    },
    {
      "cell_type": "code",
      "source": [
        "# predict output\n",
        "pipe.predict(inputs)"
      ],
      "metadata": {
        "colab": {
          "base_uri": "https://localhost:8080/"
        },
        "id": "m88w9dBmBOgm",
        "outputId": "c052d710-0fc4-4590-e195-e1263e7aed2a"
      },
      "execution_count": 21,
      "outputs": [
        {
          "output_type": "execute_result",
          "data": {
            "text/plain": [
              "array([0, 0])"
            ]
          },
          "metadata": {},
          "execution_count": 21
        }
      ]
    }
  ]
}