{
  "nbformat": 4,
  "nbformat_minor": 0,
  "metadata": {
    "colab": {
      "provenance": []
    },
    "kernelspec": {
      "name": "python3",
      "display_name": "Python 3"
    },
    "language_info": {
      "name": "python"
    }
  },
  "cells": [
    {
      "cell_type": "markdown",
      "source": [
        "# **Classfication of titanic dataset**"
      ],
      "metadata": {
        "id": "oK-nsWAo7CMp"
      }
    },
    {
      "cell_type": "code",
      "execution_count": null,
      "metadata": {
        "id": "9VE8TPvN6vDM"
      },
      "outputs": [],
      "source": [
        "# importing neccessary modules\n",
        "import pandas as pd\n",
        "import numpy as np\n",
        "\n",
        "from sklearn.model_selection import train_test_split\n",
        "from sklearn.metrics import accuracy_score\n",
        "from sklearn.impute import SimpleImputer\n",
        "from sklearn.preprocessing import OneHotEncoder,StandardScaler,OrdinalEncoder\n",
        "from sklearn.compose import ColumnTransformer\n",
        "from sklearn.tree import DecisionTreeClassifier\n",
        "from sklearn.model_selection import cross_val_score"
      ]
    },
    {
      "cell_type": "markdown",
      "source": [
        "**1 Data Gathering**"
      ],
      "metadata": {
        "id": "2jYUtFRBG4z5"
      }
    },
    {
      "cell_type": "code",
      "source": [
        "# Load dataset\n",
        "df = pd.read_csv(\"Titanic.csv\")"
      ],
      "metadata": {
        "id": "ueYPEKYh--T0"
      },
      "execution_count": null,
      "outputs": []
    },
    {
      "cell_type": "markdown",
      "source": [
        "**2 Data Preproceesing**"
      ],
      "metadata": {
        "id": "RNwl2ju5HYSF"
      }
    },
    {
      "cell_type": "code",
      "source": [
        "# check sample of data\n",
        "df.sample(5)"
      ],
      "metadata": {
        "id": "74N80HzU_KFU"
      },
      "execution_count": null,
      "outputs": []
    },
    {
      "cell_type": "code",
      "source": [
        "#checking missing values\n",
        "df.isna().sum()"
      ],
      "metadata": {
        "id": "h3nHiueP_N-K"
      },
      "execution_count": null,
      "outputs": []
    },
    {
      "cell_type": "code",
      "source": [
        "# Removing unnecessary features\n",
        "df['Family'] = df['SibSp'] + df['Parch']\n",
        "X = df[['Pclass', 'Sex','Age','Family','Fare','Embarked']]\n",
        "Y = df.iloc[:, 1];"
      ],
      "metadata": {
        "id": "xHVl6r-3DG6a"
      },
      "execution_count": null,
      "outputs": []
    },
    {
      "cell_type": "code",
      "source": [
        "# Train_test split\n",
        "X_train, X_test, Y_train, Y_test = train_test_split(X, Y, test_size=0.2, random_state=42)"
      ],
      "metadata": {
        "id": "Ex-5LkmvHuRN"
      },
      "execution_count": null,
      "outputs": []
    },
    {
      "cell_type": "code",
      "source": [
        "# imputation Tranform\n",
        "impute=ColumnTransformer([\n",
        "    ('impute',SimpleImputer(),[2,4])\n",
        "],remainder='passthrough')"
      ],
      "metadata": {
        "id": "zVp7IBLulu9P"
      },
      "execution_count": null,
      "outputs": []
    },
    {
      "cell_type": "code",
      "source": [
        "# Scaling Transform\n",
        "scale=ColumnTransformer([\n",
        "    ('scale',StandardScaler(),[0,1,4])\n",
        "],remainder='passthrough')"
      ],
      "metadata": {
        "id": "jCWrTRHAnhTH"
      },
      "execution_count": null,
      "outputs": []
    },
    {
      "cell_type": "code",
      "source": [
        "# OrdinalEncoder Encode text column to numeric column\n",
        "ordinalEncode=ColumnTransformer([\n",
        "    ('PreEncode', OrdinalEncoder(categories=[ [ \"male\", \"female\"] ,[\"S\", \"Q\", \"C\"]]),[4,5])\n",
        "],remainder='passthrough')\n"
      ],
      "metadata": {
        "id": "t3YPX8RIzSCP"
      },
      "execution_count": null,
      "outputs": []
    },
    {
      "cell_type": "code",
      "source": [
        "# One Hot Encoder Transform\n",
        "oneEncode=ColumnTransformer([\n",
        "    ('encode',OneHotEncoder(handle_unknown='ignore',sparse_output=False),[0,1])\n",
        "],remainder='passthrough')"
      ],
      "metadata": {
        "id": "prpkOrV5oN6B"
      },
      "execution_count": null,
      "outputs": []
    },
    {
      "cell_type": "markdown",
      "source": [
        "**3 Modal Training**"
      ],
      "metadata": {
        "id": "ijlnq8wsfO4g"
      }
    },
    {
      "cell_type": "code",
      "source": [
        "# train the modal\n",
        "modal = DecisionTreeClassifier()"
      ],
      "metadata": {
        "id": "pibPTaROphtA"
      },
      "execution_count": null,
      "outputs": []
    },
    {
      "cell_type": "markdown",
      "source": [
        "**4 Create Pipeline**"
      ],
      "metadata": {
        "id": "lGBqWoCmp_jC"
      }
    },
    {
      "cell_type": "code",
      "source": [
        "# creating pipeline\n",
        "from sklearn.pipeline import make_pipeline\n",
        "pipe = make_pipeline(impute,scale,ordinalEncode,oneEncode,modal)"
      ],
      "metadata": {
        "id": "FU2akX0gp9Xm"
      },
      "execution_count": null,
      "outputs": []
    },
    {
      "cell_type": "code",
      "source": [
        "# Display Pipeline\n",
        "from sklearn import set_config\n",
        "set_config(display='diagram')"
      ],
      "metadata": {
        "id": "r3oI7Y_QrZzj"
      },
      "execution_count": null,
      "outputs": []
    },
    {
      "cell_type": "code",
      "source": [
        "# train\n",
        "pipe.fit(X_train,Y_train)"
      ],
      "metadata": {
        "id": "FQ2gDrFtq3ly"
      },
      "execution_count": null,
      "outputs": []
    },
    {
      "cell_type": "markdown",
      "source": [
        "**5 Modal evaluation**"
      ],
      "metadata": {
        "id": "WVGkNFGb4pLl"
      }
    },
    {
      "cell_type": "code",
      "source": [
        "# accuracy_Score\n",
        "Y_pred = pipe.predict(X_test)\n",
        "accuracy_score(Y_test,Y_pred)  # accuracy Score"
      ],
      "metadata": {
        "id": "70jbZLc54Zqi"
      },
      "execution_count": null,
      "outputs": []
    },
    {
      "cell_type": "markdown",
      "source": [
        "# **Cross validation using pipeline**"
      ],
      "metadata": {
        "id": "cvJwslM35z1j"
      }
    },
    {
      "cell_type": "code",
      "source": [
        "# cross validation using cross_val_score\n",
        "cross_val_score(pipe,X_train,Y_train,cv=5,scoring='accuracy').mean()"
      ],
      "metadata": {
        "id": "uSYxsZk-56Sf"
      },
      "execution_count": null,
      "outputs": []
    },
    {
      "cell_type": "markdown",
      "source": [
        "# **Exporting the Pipeline**"
      ],
      "metadata": {
        "id": "dys3cGra7ZHN"
      }
    },
    {
      "cell_type": "code",
      "source": [
        "#export pipeline\n",
        "import pickle\n",
        "pickle.dump(pipe,open('pipe.pkl','wb'))"
      ],
      "metadata": {
        "id": "ZJeb4-DT7n61"
      },
      "execution_count": null,
      "outputs": []
    }
  ]
}